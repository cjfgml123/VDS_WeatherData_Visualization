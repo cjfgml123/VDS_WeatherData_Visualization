{
 "cells": [
  {
   "cell_type": "code",
   "execution_count": 3,
   "metadata": {},
   "outputs": [
    {
     "name": "stdout",
     "output_type": "stream",
     "text": [
      "Requirement already satisfied: requests in c:\\users\\chlee\\anaconda3\\lib\\site-packages (2.25.1)\n",
      "Requirement already satisfied: idna<3,>=2.5 in c:\\users\\chlee\\anaconda3\\lib\\site-packages (from requests) (2.10)\n",
      "Requirement already satisfied: chardet<5,>=3.0.2 in c:\\users\\chlee\\anaconda3\\lib\\site-packages (from requests) (4.0.0)\n",
      "Requirement already satisfied: urllib3<1.27,>=1.21.1 in c:\\users\\chlee\\anaconda3\\lib\\site-packages (from requests) (1.26.4)\n",
      "Requirement already satisfied: certifi>=2017.4.17 in c:\\users\\chlee\\anaconda3\\lib\\site-packages (from requests) (2020.12.5)\n",
      "Note: you may need to restart the kernel to use updated packages.\n"
     ]
    }
   ],
   "source": [
    "#pip install requests"
   ]
  },
  {
   "cell_type": "code",
   "execution_count": 4,
   "metadata": {},
   "outputs": [],
   "source": [
    "#key : \n",
    "# 데이터 제공 사이트 :  https://openweathermap.org/\n",
    "# 과거 데이터도 추출 가능\n",
    "# 데이터 정확성 : \n",
    "# 업데이트 주기 : 최소 2시간   돈많이 내면 최대 10분\n",
    "\n",
    "# Openweather NWP(수치적 기상 예측)를 사용하면 모든 위치의 날씨 데이터를 계산할 수 있습니다. \n",
    "# 우리는 광범위한 데이터 소스를 수집 및 처리하는 독점적인 컨볼루션 신경망을 사용하여 모든 위치를 포괄하고 \n",
    "# 기후의 지역적 뉘앙스를 고려합니다. ML 기술을 사용하면 약 500m의 해상도와 90%에서 100% 사이의 매우 높은\n",
    "# 정확도와 약 1%의 정확도에 도달할 수 있습니다. 우리가 NWP에 제공하는 데이터 소스 중에는 전 세계적으로\n",
    "# 퍼져 있는 82,000개의 기상 관측소가 있습니다. 국가 기상 기관(NOAA, 캐나다 환경청, 기상청 등), 레이더, 기상 위성.\n",
    "\n",
    "import requests\n",
    "import datetime\n",
    "\n",
    "url = \"\"\n",
    "def Extracion_Weather(_url):\n",
    "    response = requests.get(_url)\n",
    "    dict_data = response.json()\n",
    "    return dict_data\n",
    "\n",
    " # 유닉스 시간에서 -> 일반시간으로 변환 메소드\n",
    "def convert_datetime(unixtime):           \n",
    "    date = datetime.datetime.fromtimestamp(unixtime).strftime('%Y-%m-%d %H:%M:%S')\n",
    "    return date # format : str\n"
   ]
  },
  {
   "cell_type": "code",
   "execution_count": 5,
   "metadata": {},
   "outputs": [
    {
     "data": {
      "text/plain": [
       "{'coord': {'lon': 127.4897, 'lat': 36.6372},\n",
       " 'weather': [{'id': 804,\n",
       "   'main': 'Clouds',\n",
       "   'description': 'overcast clouds',\n",
       "   'icon': '04d'}],\n",
       " 'base': 'stations',\n",
       " 'main': {'temp': 26.83,\n",
       "  'feels_like': 27.37,\n",
       "  'temp_min': 26.74,\n",
       "  'temp_max': 27.8,\n",
       "  'pressure': 1008,\n",
       "  'humidity': 52,\n",
       "  'sea_level': 1008,\n",
       "  'grnd_level': 1002},\n",
       " 'visibility': 10000,\n",
       " 'wind': {'speed': 2.04, 'deg': 299, 'gust': 3.4},\n",
       " 'clouds': {'all': 100},\n",
       " 'dt': '2021-10-01 16:14:50',\n",
       " 'sys': {'type': 1,\n",
       "  'id': 8090,\n",
       "  'country': 'KR',\n",
       "  'sunrise': 1633037093,\n",
       "  'sunset': 1633079673},\n",
       " 'timezone': 32400,\n",
       " 'id': 1845604,\n",
       " 'name': 'Cheongju-si',\n",
       " 'cod': 200}"
      ]
     },
     "execution_count": 5,
     "metadata": {},
     "output_type": "execute_result"
    }
   ],
   "source": [
    "dict_data = Extracion_Weather(url)\n",
    "dict_data['dt'] = convert_datetime(dict_data['dt'])\n",
    "dict_data"
   ]
  },
  {
   "cell_type": "code",
   "execution_count": 9,
   "metadata": {},
   "outputs": [
    {
     "data": {
      "text/plain": [
       "26.83"
      ]
     },
     "execution_count": 9,
     "metadata": {},
     "output_type": "execute_result"
    }
   ],
   "source": [
    "# 온도 추출\n",
    "temp = dict_data['main']['temp']\n",
    "temp"
   ]
  },
  {
   "cell_type": "code",
   "execution_count": 35,
   "metadata": {},
   "outputs": [
    {
     "data": {
      "text/plain": [
       "dict_keys(['coord', 'weather', 'base', 'main', 'visibility', 'wind', 'rain', 'clouds', 'dt', 'sys', 'timezone', 'id', 'name', 'cod'])"
      ]
     },
     "execution_count": 35,
     "metadata": {},
     "output_type": "execute_result"
    }
   ],
   "source": [
    "dict_data.keys()"
   ]
  },
  {
   "cell_type": "code",
   "execution_count": 24,
   "metadata": {},
   "outputs": [
    {
     "data": {
      "text/plain": [
       "[{'id': 803, 'main': 'Clouds', 'description': 'broken clouds', 'icon': '04d'}]"
      ]
     },
     "execution_count": 24,
     "metadata": {},
     "output_type": "execute_result"
    }
   ],
   "source": [
    "data = dict_data['weather'] # list\n"
   ]
  },
  {
   "cell_type": "code",
   "execution_count": 31,
   "metadata": {},
   "outputs": [
    {
     "data": {
      "text/plain": [
       "803"
      ]
     },
     "execution_count": 31,
     "metadata": {},
     "output_type": "execute_result"
    }
   ],
   "source": [
    "data[0]['id'] # 리스트에서 데이터 추출"
   ]
  },
  {
   "cell_type": "code",
   "execution_count": null,
   "metadata": {},
   "outputs": [],
   "source": [
    "# data 설명\n",
    "{\n",
    "    \"coord\":\n",
    "    {\n",
    "        \"lon\":127.4897, # 경도\n",
    "        \"lat\":36.6372   # 위도\n",
    "    },\n",
    "    \"weather\":\n",
    "    [{\n",
    "        \"id\":500, # 기상상태 id\n",
    "        \"main\":\"Rain\", # 비, 눈, Extreme etc\n",
    "        \"description\":\"light rain\",  #그룹 내의 날씨 상태. 한국어로 바꿀 수 있는데 해석 이상함.\n",
    "        \"icon\":\"10d\" # Weather icon id  ,  https://openweathermap.org/weather-conditions 날씨 상태 리스트\n",
    "    }],\n",
    "    \"base\":\"stations\", #Internal parameter\n",
    "    \"main\":    \t  \n",
    "    {\n",
    "        \"temp\":33.74,   #  섭씨  현재 온도\n",
    "        \"feels_like\":39.19, #  This temperature parameter accounts for the human perception of weather.\n",
    "        \"temp_min\":33.74, # 현재 관측된 최소온도(도시권 내에서)\n",
    "        \"temp_max\":33.74, # 현재 관측된 최고온도(도시권 내에서)\n",
    "        \"pressure\":1003, # 대기압(해수면, 해수면 또는 grnd_level data가 없는 경우) hPa\n",
    "        \"humidity\":54,   # %\n",
    "        \"sea_level\":1003,# 해수면 기압 hPa\n",
    "        \"grnd_level\":997 # 지상의 기압 hPa\n",
    "    },\n",
    "    \"visibility\":10000,\n",
    "    \"wind\":\n",
    "    {\n",
    "        \"speed\":2.44, #   풍속, 단위 기본값 : meter/sec , 미터법 : meter/sec, 영국식 : miles/hour\n",
    "        \"deg\":321, # 풍향, Wind direction, degrees(meteorological)\n",
    "        \"gust\":2.28 #  돌풍. 단위 기본값 : meter/sec, 미터법 : meter/sec 영국식 : miles/hour\n",
    "    },\n",
    "    \"rain\":\n",
    "    {\n",
    "        \"1h\":1 # 최근1시간동안의 강우량 mm\n",
    "    },\n",
    "    \"clouds\":\n",
    "    {\n",
    "        \"all\":40 # Cloudiness, % (흐림)\n",
    "    }, \n",
    "    \"dt\":1628226633, # Time of data calculation, unix, UTC\n",
    "    \"sys\":   \n",
    "    {\n",
    "        \"type\":1, #  Internal parameter\n",
    "        \"id\":8090, #  Internal parameter\n",
    "        \"country\":\"KR\", # 국가 코드\n",
    "        \"sunrise\":1628195989, # 일출 시간 , unix, UTC\n",
    "        \"sunset\":1628245926 # 일몰 시간 , unix, UTC\n",
    "    },\n",
    "    \"timezone\":32400, #Shift in seconds from UTC\n",
    "    \"id\":1845604,     # 도시 id \n",
    "    \"name\":\"Cheongju-si\", # 도시 이름 \n",
    "    \"cod\":200    # Internal parameter\n",
    "}"
   ]
  }
 ],
 "metadata": {
  "kernelspec": {
   "display_name": "Python 3",
   "language": "python",
   "name": "python3"
  },
  "language_info": {
   "codemirror_mode": {
    "name": "ipython",
    "version": 3
   },
   "file_extension": ".py",
   "mimetype": "text/x-python",
   "name": "python",
   "nbconvert_exporter": "python",
   "pygments_lexer": "ipython3",
   "version": "3.7.3"
  },
  "toc": {
   "base_numbering": 1,
   "nav_menu": {},
   "number_sections": true,
   "sideBar": true,
   "skip_h1_title": false,
   "title_cell": "Table of Contents",
   "title_sidebar": "Contents",
   "toc_cell": false,
   "toc_position": {},
   "toc_section_display": true,
   "toc_window_display": false
  }
 },
 "nbformat": 4,
 "nbformat_minor": 5
}
